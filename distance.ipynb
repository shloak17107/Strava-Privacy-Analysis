{
 "cells": [
  {
   "cell_type": "code",
   "execution_count": 1,
   "metadata": {},
   "outputs": [],
   "source": [
    "import gpx_parser as parser\n",
    "import gmplot\n",
    "import gpxpy\n",
    "from pandas import DataFrame\n",
    "import mplleaflet\n",
    "import matplotlib.pyplot as plt\n",
    "from geopy.distance import vincenty\n",
    "from random import randint\n",
    "\n",
    "\n",
    "colors = []\n",
    "\n",
    "for i in range(101):\n",
    "    colors.append('#%06X' % randint(0, 0xFFFFFF))"
   ]
  },
  {
   "cell_type": "code",
   "execution_count": 2,
   "metadata": {},
   "outputs": [],
   "source": [
    "\n",
    "def distance(gpx):\n",
    "    totalDistance = 0\n",
    "    track = gpx.tracks[0]\n",
    "    segment = track.segments[0]\n",
    "    f = 1\n",
    "    prev = 0\n",
    "    for point_idx, point in enumerate(segment.points):\n",
    "        if(f):\n",
    "            prev = (point.latitude,point.longitude)\n",
    "            f = 0\n",
    "        else:\n",
    "            curr = (point.latitude,point.longitude)\n",
    "            totalDistance += vincenty(curr, prev).miles\n",
    "            prev = curr\n",
    "#         print(point.time,point.longitude,point.latitude)\n",
    "    return totalDistance"
   ]
  },
  {
   "cell_type": "code",
   "execution_count": 3,
   "metadata": {
    "scrolled": true
   },
   "outputs": [
    {
     "name": "stderr",
     "output_type": "stream",
     "text": [
      "/usr/local/lib/python3.7/dist-packages/ipykernel_launcher.py:13: DeprecationWarning: Vincenty is deprecated and is going to be removed in geopy 2.0. Use `geopy.distance.geodesic` (or the default `geopy.distance.distance`) instead, which is more accurate and always converges.\n",
      "  del sys.path[0]\n"
     ]
    },
    {
     "name": "stdout",
     "output_type": "stream",
     "text": [
      "Avg. distance travelled: 15.53989707374474\n",
      "Avg. distance travelled: 20.010519889798218\n",
      "Avg. distance travelled: 20.03765131639104\n",
      "Avg. distance travelled: 20.50226798341057\n",
      "Avg. distance travelled: 21.29522834108468\n",
      "Avg. distance travelled: 20.86569383925918\n",
      "Avg. distance travelled: 21.44846088867563\n",
      "Avg. distance travelled: 21.44846088867563\n",
      "Elements in the distance array: \n",
      "15.53989707374474\n",
      "20.010519889798218\n",
      "20.03765131639104\n",
      "20.50226798341057\n",
      "21.29522834108468\n",
      "20.86569383925918\n",
      "21.44846088867563\n"
     ]
    },
    {
     "data": {
      "text/plain": [
       "<Figure size 720x720 with 0 Axes>"
      ]
     },
     "metadata": {},
     "output_type": "display_data"
    }
   ],
   "source": [
    "\n",
    "fig = plt.figure(figsize=(10, 10))\n",
    "\n",
    "avg = 0\n",
    "dis = []\n",
    "\n",
    "no_athlete = 8\n",
    "avg_list = []\n",
    "athlete_gpx_len = [0, 651, 844, 512, 432, 491, 448, 1496]\n",
    "\n",
    "athlete_files = \"Athlete\"\n",
    "\n",
    "for j in range(1, no_athlete):\n",
    "    for i in range(1, athlete_gpx_len[j]):\n",
    "        gpx = gpxpy.parse(open('Sport2/Athlete' + str(j) + '/' + str(i) + '.gpx'))\n",
    "        dis.append(distance(gpx))\n",
    "        \n",
    "    avg_dist = sum(dis)/len(dis)\n",
    "    avg_list.append(avg_dist)\n",
    "    print('Avg. distance travelled:',avg_dist)\n",
    "        \n",
    "\n",
    "print('Avg. distance travelled:',sum(dis)/len(dis))\n",
    "\n",
    "\n",
    "print(\"Elements in the distance array: \")\n",
    "for i in range(len(avg_list)):\n",
    "    \n",
    "    print(avg_list[i])\n",
    "    "
   ]
  },
  {
   "cell_type": "code",
   "execution_count": 4,
   "metadata": {},
   "outputs": [
    {
     "data": {
      "image/png": "[encoded data removed]",
      "text/plain": [
       "<Figure size 432x288 with 1 Axes>"
      ]
     },
     "metadata": {
      "needs_background": "light"
     },
     "output_type": "display_data"
    }
   ],
   "source": [
    "x_label = [1, 2, 3, 4, 5, 6, 7]\n",
    "\n",
    "plt.bar(x_label,avg_list , align=\"center\", alpha=0.5)\n",
    "\n",
    "plt.xlabel(\"Athlete No\")\n",
    "plt.ylabel(\"Distance Travelled\")\n",
    "\n",
    "plt.show()"
   ]
  },
  {
   "cell_type": "code",
   "execution_count": 5,
   "metadata": {},
   "outputs": [
    {
     "name": "stdout",
     "output_type": "stream",
     "text": [
      "19.957102761766293\n"
     ]
    }
   ],
   "source": [
    "total_avg = sum(avg_list)/len(avg_list)\n",
    "\n",
    "print(total_avg)"
   ]
  },
  {
   "cell_type": "code",
   "execution_count": null,
   "metadata": {},
   "outputs": [],
   "source": []
  }
 ],
 "metadata": {
  "kernelspec": {
   "display_name": "Python 3",
   "language": "python",
   "name": "python3"
  },
  "language_info": {
   "codemirror_mode": {
    "name": "ipython",
    "version": 3
   },
   "file_extension": ".py",
   "mimetype": "text/x-python",
   "name": "python",
   "nbconvert_exporter": "python",
   "pygments_lexer": "ipython3",
   "version": "3.7.3"
  }
 },
 "nbformat": 4,
 "nbformat_minor": 4
}
